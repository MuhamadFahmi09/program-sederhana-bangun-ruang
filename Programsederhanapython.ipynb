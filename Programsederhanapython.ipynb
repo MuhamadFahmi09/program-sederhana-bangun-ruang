{
 "cells": [
  {
   "cell_type": "code",
   "execution_count": null,
   "metadata": {},
   "outputs": [
    {
     "name": "stdout",
     "output_type": "stream",
     "text": [
      "========segitiga============\n"
     ]
    }
   ],
   "source": [
    "print(\"========segitiga============\")\n",
    "alas = int(input(\"Alas : \"))\n",
    "tinggi = int(input(\"Tinggi : \"))\n",
    "lebar = int(input(\"Lebar : \"))\n",
    "\n",
    "keliling = alas+tinggi+lebar\n",
    "luas = (alas*tinggi)/2\n",
    "\n",
    "print(\"Luas Segitiga Adalah : \", luas)\n",
    "print(\"Keliling Segitiga Adalah : \", keliling)"
   ]
  },
  {
   "cell_type": "code",
   "execution_count": null,
   "metadata": {},
   "outputs": [],
   "source": [
    "print(\"========TRAPESIUM===========\")\n",
    "sisi1 = int(input(\"Sisi 1 : \"))\n",
    "sisi2 = int(input(\"Sisi 2 : \"))\n",
    "sisi3 = int(input(\"Sisi 3 : \"))\n",
    "tinggi = int(input(\"Tinggi : \"))\n",
    "luas = (sisi1+sisi2) * tinggi / 2\n",
    "keliling = sisi1+sisi2+sisi3+tinggi\n",
    "print(\"Luas = \", luas)\n",
    "print(\"Keliling =\", keliling)"
   ]
  },
  {
   "cell_type": "code",
   "execution_count": null,
   "metadata": {},
   "outputs": [],
   "source": [
    "print(\"==========LAYANG LAYANG==============\")\n",
    "panjang = int(input(\"Panjang : \"))\n",
    "lebar = int(input(\"Lebar : \"))\n",
    "d1 = int(input(\"Diameter 1 : \"))\n",
    "d2 = int(input(\"Diameter 2 : \"))\n",
    "luas = (d1*d2)/2\n",
    "keliling = (2*panjang) + (2*lebar)\n",
    "print(\"Luar = \", luas)\n",
    "print(\"Keliling = \", keliling)"
   ]
  },
  {
   "cell_type": "code",
   "execution_count": null,
   "metadata": {},
   "outputs": [],
   "source": [
    "print(\"==========PERSEGI PANJANG========\")\n",
    "panjang = int(input(\"Panjang : \"))\n",
    "lebar = int(input(\"Lebar : \"))\n",
    "luas = panjang*lebar\n",
    "keliling = (2*panjang) + (2*lebar)\n",
    "print(\"Luas : \", luas)\n",
    "print(\"Keliling\", keliling)"
   ]
  },
  {
   "cell_type": "code",
   "execution_count": null,
   "metadata": {},
   "outputs": [],
   "source": [
    "print(\"==============PERSEGI============\")\n",
    "sisi = int(input(\"Masukkan Sisi : \"))\n",
    "luas = sisi*sisi\n",
    "keliling = 4*sisi\n",
    "print(\"Luas Persegi = \", luas)\n",
    "print(\"Luas Persegi = \", keliling)"
   ]
  },
  {
   "cell_type": "code",
   "execution_count": null,
   "metadata": {},
   "outputs": [],
   "source": [
    "print(\"===========LINGKARAN==========\")\n",
    "jari = int(input(\"Jari-jari : \"))\n",
    "diameter = int(input(\"Diameter : \"))\n",
    "print(\"Luas = \", (3.14*jari)**2)\n",
    "print(\"Keliling = \", 2*3.14*jari)"
   ]
  },
  {
   "cell_type": "code",
   "execution_count": null,
   "metadata": {},
   "outputs": [],
   "source": [
    "print(\"=======JAJAR GENJANG===========\")\n",
    "panjang = int(input(\"Panjang : \"))\n",
    "lebar = int(input(\"Lebar : \"))\n",
    "tinggi = int(input(\"Tinggi : \"))\n",
    "luas = lebar*tinggi\n",
    "keliling = (2*panjang) + (2*lebar)\n",
    "print(\"Luas = \", luas)\n",
    "print(\"Keliling = \", keliling)"
   ]
  },
  {
   "cell_type": "code",
   "execution_count": null,
   "metadata": {},
   "outputs": [],
   "source": [
    "print(\"=========DUA BILANGAN========\")\n",
    "\n",
    "bil1 = input(\"Masukkan Angka Pertama : \")\n",
    "bil2 = input(\"Masukkan Angka Kedua : \")\n",
    "\n",
    "jumlah = float(bil1)+float(bil2)\n",
    "\n",
    "print('jumlah {0}+{1} adalah {2}'.format(bil1, bil2, jumlah))\n"
   ]
  },
  {
   "cell_type": "code",
   "execution_count": null,
   "metadata": {},
   "outputs": [],
   "source": [
    "print(\"===========BELAH KETUPAT=====\")\n",
    "d1 = int(input(\"Diameter 1 : \"))\n",
    "d2 = int(input(\"Diameter 2 : \"))\n",
    "sisi = int(input(\"Sisi : \"))\n",
    "luas = (d1*d2)/2\n",
    "keliling = 4 * sisi\n",
    "print(\"Luas = \", luas)\n",
    "print(\"Keliling = \", keliling)"
   ]
  },
  {
   "cell_type": "code",
   "execution_count": null,
   "metadata": {},
   "outputs": [],
   "source": [
    "print(\"=======KUBUS==========\")\n",
    "rusuk = int(input(\"Rusuk  : \"))\n",
    "print(\"Luas = \", 6*(rusuk**2))\n",
    "print(\"volume = \", rusuk*rusuk*rusuk)"
   ]
  },
  {
   "cell_type": "code",
   "execution_count": null,
   "metadata": {},
   "outputs": [],
   "source": [
    "print(\"=======BALOK=====\")\n",
    "panjang = int(input(\"Panjang : \"))\n",
    "lebar = int(input(\"Lebar : \"))\n",
    "\n",
    "print(\"Luas = \", )"
   ]
  }
 ],
 "metadata": {
  "kernelspec": {
   "display_name": "Python 3",
   "language": "python",
   "name": "python3"
  },
  "language_info": {
   "codemirror_mode": {
    "name": "ipython",
    "version": 3
   },
   "file_extension": ".py",
   "mimetype": "text/x-python",
   "name": "python",
   "nbconvert_exporter": "python",
   "pygments_lexer": "ipython3",
   "version": "3.7.3"
  }
 },
 "nbformat": 4,
 "nbformat_minor": 2
}
